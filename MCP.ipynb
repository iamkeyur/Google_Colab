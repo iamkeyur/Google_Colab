{
 "cells": [
  {
   "cell_type": "code",
   "execution_count": 200,
   "metadata": {},
   "outputs": [
    {
     "name": "stdout",
     "output_type": "stream",
     "text": [
      "\u001b[32m\u001b[1m Resolving\u001b[22m\u001b[39m package versions...\n",
      "\u001b[32m\u001b[1m  Updating\u001b[22m\u001b[39m `~/Project.toml`\n",
      "\u001b[90m [no changes]\u001b[39m\n",
      "\u001b[32m\u001b[1m  Updating\u001b[22m\u001b[39m `~/Manifest.toml`\n",
      "\u001b[90m [no changes]\u001b[39m\n",
      "\u001b[32m\u001b[1m Resolving\u001b[22m\u001b[39m package versions...\n",
      "\u001b[32m\u001b[1m  Updating\u001b[22m\u001b[39m `~/Project.toml`\n",
      "\u001b[90m [no changes]\u001b[39m\n",
      "\u001b[32m\u001b[1m  Updating\u001b[22m\u001b[39m `~/Manifest.toml`\n",
      "\u001b[90m [no changes]\u001b[39m\n",
      "\u001b[32m\u001b[1m Resolving\u001b[22m\u001b[39m package versions...\n",
      "\u001b[32m\u001b[1m  Updating\u001b[22m\u001b[39m `~/Project.toml`\n",
      "\u001b[90m [no changes]\u001b[39m\n",
      "\u001b[32m\u001b[1m  Updating\u001b[22m\u001b[39m `~/Manifest.toml`\n",
      "\u001b[90m [no changes]\u001b[39m\n"
     ]
    }
   ],
   "source": [
    "# using MetadataTools,  DocStringExtensions\n",
    "import Pkg;\n",
    "Pkg.add(\"MLJ\");\n",
    "Pkg.add(\"DataFrames\");\n",
    "using Random: shuffle, MersenneTwister\n",
    "\n",
    "# export MulticlassPerceptronClassifier, fit!, predict\n",
    "using LinearAlgebra: mul!\n",
    "using SparseArrays\n",
    "\n",
    "import MLJBase\n",
    "using MLJ\n",
    "#using Revise\n",
    "Pkg.add(\"CategoricalArrays\")\n",
    "#> needed for classifiers:\n",
    "using CategoricalArrays"
   ]
  },
  {
   "cell_type": "code",
   "execution_count": null,
   "metadata": {},
   "outputs": [],
   "source": []
  },
  {
   "cell_type": "code",
   "execution_count": 201,
   "metadata": {},
   "outputs": [],
   "source": [
    "mutable struct MulticlassPerceptronClassifier <: MLJBase.Deterministic\n",
    "    n_epochs::Int\n",
    "    n_epoch_patience::Int\n",
    "    f_average_weights::Bool\n",
    "    f_shuffle_data::Bool\n",
    "    element_type::DataType\n",
    "end"
   ]
  },
  {
   "cell_type": "code",
   "execution_count": 202,
   "metadata": {},
   "outputs": [
    {
     "data": {
      "text/plain": [
       "MulticlassPerceptronClassifier"
      ]
     },
     "execution_count": 202,
     "metadata": {},
     "output_type": "execute_result"
    }
   ],
   "source": [
    "# keyword constructor\n",
    "function MulticlassPerceptronClassifier( ; \n",
    "                                        n_epochs=100,\n",
    "                                        n_epoch_patience=5,\n",
    "                                        f_average_weights=true,\n",
    "                                        f_shuffle_data=false,\n",
    "                                        element_type=Float32)\n",
    "\n",
    "    model = MulticlassPerceptronClassifier(n_epochs,\n",
    "                                           n_epoch_patience,\n",
    "                                           f_average_weights,\n",
    "                                           f_shuffle_data,\n",
    "                                           element_type)\n",
    "    \n",
    "    message = MLJBase.clean!(model)\n",
    "    isempty(message) || @warn message\n",
    "    return model\n",
    "end"
   ]
  },
  {
   "cell_type": "code",
   "execution_count": 203,
   "metadata": {},
   "outputs": [
    {
     "data": {
      "text/plain": [
       "MulticlassPerceptronClassifier(n_epochs = 100,\n",
       "                               n_epoch_patience = 5,\n",
       "                               f_average_weights = true,\n",
       "                               f_shuffle_data = false,\n",
       "                               element_type = Float32,)\u001b[34m @ 1…01\u001b[39m"
      ]
     },
     "execution_count": 203,
     "metadata": {},
     "output_type": "execute_result"
    }
   ],
   "source": [
    "model = MulticlassPerceptronClassifier()"
   ]
  },
  {
   "cell_type": "code",
   "execution_count": 204,
   "metadata": {},
   "outputs": [],
   "source": [
    "function MLJ.clean!(model::MulticlassPerceptronClassifier)\n",
    "    warning = \"\"\n",
    "    if model.n_epochs < 1\n",
    "        warning *= \"Need n_epochs ≥ 1. Resetting n_epochs=100 \"\n",
    "        model.n_epochs = 50\n",
    "    end\n",
    "    \n",
    "    if model.n_epoch_patience <1\n",
    "        warning *= \"Need epoch_patience ≥ 1. Resetting epoch_patience=5 \"\n",
    "        model.epoch_patience = 5\n",
    "    end\n",
    "\n",
    "    return warning\n",
    "end"
   ]
  },
  {
   "cell_type": "code",
   "execution_count": 205,
   "metadata": {},
   "outputs": [],
   "source": [
    "mutable struct MulticlassPerceptronClassifierParameters{T}\n",
    "    W::AbstractMatrix{T}\n",
    "    b::AbstractVector{T}\n",
    "    n_classes::Int\n",
    "    n_features::Int\n",
    "    is_sparse::Bool\n",
    "end"
   ]
  },
  {
   "cell_type": "code",
   "execution_count": 206,
   "metadata": {},
   "outputs": [
    {
     "data": {
      "text/plain": [
       "MulticlassPerceptronClassifierParameters"
      ]
     },
     "execution_count": 206,
     "metadata": {},
     "output_type": "execute_result"
    }
   ],
   "source": [
    "function MulticlassPerceptronClassifierParameters(T::Type, n_classes::Int, n_features::Int, is_sparse::Bool) \n",
    "    \n",
    "    if is_sparse==false\n",
    "        return MulticlassPerceptronClassifierParameters{T}(rand(T, n_features, n_classes),\n",
    "                                                                                       zeros(T, n_classes),\n",
    "                                                                                       n_classes,\n",
    "                                                                                       n_features,\n",
    "                                                                                       is_sparse)\n",
    "    else\n",
    "        return  MulticlassPerceptronClassifierParameters{T}(sparse(rand(T, n_features, n_classes)),\n",
    "                                                            spzeros(T, n_classes),\n",
    "                                                            n_classes,\n",
    "                                                            n_features,\n",
    "                                                            is_sparse)     \n",
    "    end\n",
    "end"
   ]
  },
  {
   "cell_type": "code",
   "execution_count": 207,
   "metadata": {},
   "outputs": [],
   "source": [
    "function MLJBase.fit(model::MulticlassPerceptronClassifier,\n",
    "                     verbosity::Int,   \n",
    "                     X,\n",
    "                     y)\n",
    "    \n",
    "    #Xmatrix = MLJBase.matrix(X)\n",
    "    n_classes    = length(unique(y))\n",
    "    classes_seen = unique(y)\n",
    "    n_features   = size(train_x,1)  # this assumes data comes in cols\n",
    "    \n",
    "    #decode  = MLJBase.decoder(y[1]) # for predict method\n",
    "    decode =  false\n",
    "\n",
    "    # Defining the fitpredict object\n",
    "    is_sparse = issparse(X)\n",
    "    perceptron = MulticlassPerceptronClassifierParameters(model.element_type, n_classes, n_features, is_sparse);\n",
    "    \n",
    "    ### Fitting code starts\n",
    "    fit!(perceptron, X, y; \n",
    "         verbosity=verbosity, \n",
    "         n_epochs=model.n_epochs,\n",
    "         f_average_weights=model.f_average_weights,\n",
    "         f_shuffle_data=model.f_shuffle_data\n",
    "        );   \n",
    "    \n",
    "    ### Fitting code ends\n",
    "    cache = nothing\n",
    "    fitresult = (perceptron, decode)\n",
    "    report = NamedTuple{}()\n",
    "    \n",
    "    #> return package-specific statistics (eg, feature rankings,\n",
    "    #> internal estimates of generalization error) in `report`, which\n",
    "    #> should be a named tuple with the same type every call (can have\n",
    "    #> empty values)\n",
    "    return fitresult, cache, report\n",
    "end"
   ]
  },
  {
   "cell_type": "code",
   "execution_count": 208,
   "metadata": {},
   "outputs": [
    {
     "data": {
      "text/plain": [
       "predict_with_placeholder"
      ]
     },
     "execution_count": 208,
     "metadata": {},
     "output_type": "execute_result"
    }
   ],
   "source": [
    "\"\"\"\n",
    "Predicts the class for a given input in a `MulticlassPerceptronClassifier`.\n",
    "The placeholder is used to avoid allocating memory for each matrix-vector multiplication.\n",
    "\n",
    "- Returns the predicted class.\n",
    "\"\"\"\n",
    "function predict_with_placeholder(h::MulticlassPerceptronClassifierParameters, x::AbstractVector, class_placeholder::AbstractVector)\n",
    "    #@fastmath class_placeholder .= At_mul_B!(class_placeholder, h.W, x) .+ h.b\n",
    "    class_placeholder .= mul!(class_placeholder, transpose(h.W), x)  .+ h.b\n",
    "    return argmax(class_placeholder)\n",
    "end"
   ]
  },
  {
   "cell_type": "code",
   "execution_count": 209,
   "metadata": {},
   "outputs": [
    {
     "data": {
      "text/plain": [
       "accuracy"
      ]
     },
     "execution_count": 209,
     "metadata": {},
     "output_type": "execute_result"
    }
   ],
   "source": [
    "\n",
    "\"\"\"\n",
    "Compute the accuracy between `y` and `y_hat`.\n",
    "\"\"\"\n",
    "function accuracy(y::AbstractVector, y_hat::AbstractVector)\n",
    "    acc = 0.\n",
    "    @fastmath for k = 1:length(y)\n",
    "            @inbounds  acc += y[k] == y_hat[k]\n",
    "    end\n",
    "    return acc/length(y_hat)\n",
    "end"
   ]
  },
  {
   "cell_type": "code",
   "execution_count": 210,
   "metadata": {},
   "outputs": [
    {
     "data": {
      "text/plain": [
       "fit!"
      ]
     },
     "execution_count": 210,
     "metadata": {},
     "output_type": "execute_result"
    }
   ],
   "source": [
    "\n",
    "\"\"\"\n",
    "\n",
    "\n",
    "    average_flag=true:\n",
    "        Maintains a running some of the average weight matrix W and bias vector b.\n",
    "\n",
    "        One possible way to do this would be to update the weights after every example is seen  but this\n",
    "        would be less efficient.\n",
    "\"\"\"\n",
    "function fit!(h::MulticlassPerceptronClassifierParameters, X::AbstractArray, y::AbstractVector;\n",
    "              verbosity=0,\n",
    "              n_epochs=50,\n",
    "              learning_rate=0.1,\n",
    "              f_average_weights=false,\n",
    "              compute_accuracy=true,\n",
    "              seed=MersenneTwister(1234),\n",
    "              f_shuffle_data=false)\n",
    "    \n",
    "    n_features, n_samples = size(X)\n",
    "    @assert length(y) == n_samples\n",
    "    scores = []\n",
    "    T = eltype(X)\n",
    "    counter           = 0\n",
    "    learning_rate     = T(learning_rate)\n",
    "    class_placeholder = zeros(T, h.n_classes)\n",
    "    y_preds           = zeros(Int16, n_samples)\n",
    "    \n",
    "    data_indices      = Array(1:n_samples)\n",
    "    max_acc           = zero(T)\n",
    "    best = 0\n",
    "    \n",
    "    if f_average_weights\n",
    "        W_average =  zeros(T, h.n_features, h.n_classes)\n",
    "        b_average =  zeros(T, h.n_classes)\n",
    "    end\n",
    "\n",
    "    @fastmath for epoch in 1:n_epochs\n",
    "\n",
    "        n_mistakes = 0\n",
    "        if f_shuffle_data\n",
    "            shuffle!(seed, data_indices)\n",
    "        end\n",
    "        \n",
    "        @inbounds for m in data_indices\n",
    "            x     = view(X, :, m);\n",
    "            y_hat = predict_with_placeholder(h, x, class_placeholder)\n",
    "            \n",
    "            if y[m] != y_hat\n",
    "                n_mistakes += 1\n",
    "                ####  wij ← wij − η (yj −tj) · xi\n",
    "                h.W[:, y[m]]  .= h.W[:, y[m]]  .+ learning_rate .* x\n",
    "                h.b[y[m]]      = h.b[y[m]]      + learning_rate\n",
    "                h.W[:, y_hat] .= h.W[:, y_hat] .- learning_rate .* x\n",
    "                h.b[y_hat]     = h.b[y_hat]     - learning_rate \n",
    "                \n",
    "                if f_average_weights == true\n",
    "                    counter_learning_rate = counter * learning_rate\n",
    "                    W_average[:, y[m]]   .= W_average[:, y[m]]  .+ counter_learning_rate .* x\n",
    "                    b_average[y[m]]       = b_average[y[m]]      + counter_learning_rate\n",
    "                    W_average[:, y_hat]  .= W_average[:, y_hat] .- counter_learning_rate .* x\n",
    "                    b_average[y_hat]      = b_average[y_hat]     - counter_learning_rate\n",
    "                end\n",
    "            end\n",
    "            counter +=1\n",
    "        end\n",
    "\n",
    "        acc = (n_samples - n_mistakes)/n_samples\n",
    "        # push!(scores, acc) maybe it would be nice to return an array with monitoring metrics to \n",
    "        # allow users to decide if the model has converged\n",
    "        if acc > best\n",
    "            best = acc\n",
    "        end\n",
    "    end\n",
    "    \n",
    "    if f_average_weights == true\n",
    "        h.W .= h.W  .- W_average./counter \n",
    "        h.b .= h.b  .- b_average./counter\n",
    "    end\n",
    "    print(\"Best\")\n",
    "    print(best)\n",
    "    \n",
    "end"
   ]
  },
  {
   "cell_type": "code",
   "execution_count": 211,
   "metadata": {},
   "outputs": [
    {
     "data": {
      "text/plain": [
       "MulticlassPerceptronClassifier(n_epochs = 50000,\n",
       "                               n_epoch_patience = 5,\n",
       "                               f_average_weights = false,\n",
       "                               f_shuffle_data = false,\n",
       "                               element_type = Float32,)\u001b[34m @ 1…00\u001b[39m"
      ]
     },
     "execution_count": 211,
     "metadata": {},
     "output_type": "execute_result"
    }
   ],
   "source": [
    "model = MulticlassPerceptronClassifier(n_epochs=50000; f_average_weights=false)"
   ]
  },
  {
   "cell_type": "code",
   "execution_count": 212,
   "metadata": {},
   "outputs": [
    {
     "data": {
      "text/plain": [
       "MulticlassPerceptronClassifier(n_epochs = 50000,\n",
       "                               n_epoch_patience = 5,\n",
       "                               f_average_weights = false,\n",
       "                               f_shuffle_data = false,\n",
       "                               element_type = Float32,)\u001b[34m @ 1…00\u001b[39m"
      ]
     },
     "execution_count": 212,
     "metadata": {},
     "output_type": "execute_result"
    }
   ],
   "source": [
    "model"
   ]
  },
  {
   "cell_type": "code",
   "execution_count": 213,
   "metadata": {},
   "outputs": [
    {
     "data": {
      "text/plain": [
       "40×2 Array{Float64,2}:\n",
       "  0.1   1.1\n",
       "  6.8   7.1\n",
       " -3.5  -4.1\n",
       "  2.0   2.7\n",
       "  4.1   2.8\n",
       "  3.1   5.0\n",
       " -0.8  -1.3\n",
       "  0.9   1.2\n",
       "  5.0   6.4\n",
       "  3.9   4.0\n",
       "  7.1   4.2\n",
       " -1.4  -4.3\n",
       "  4.5   0.0\n",
       "  ⋮        \n",
       " -5.1   1.6\n",
       "  1.9   5.1\n",
       " -2.0  -8.4\n",
       " -8.9   0.2\n",
       " -4.2  -7.7\n",
       " -8.5  -3.2\n",
       " -6.7  -4.0\n",
       " -0.5  -9.2\n",
       " -5.3  -6.7\n",
       " -8.7  -6.4\n",
       " -7.1  -9.7\n",
       " -8.0  -6.3"
      ]
     },
     "execution_count": 213,
     "metadata": {},
     "output_type": "execute_result"
    }
   ],
   "source": [
    "train_x = [0.100000000000000\t1.10000000000000;\n",
    "6.80000000000000\t7.10000000000000;\n",
    "-3.50000000000000\t-4.10000000000000;\n",
    "2\t2.70000000000000;\n",
    "4.10000000000000\t2.80000000000000;\n",
    "3.10000000000000\t5;\n",
    "-0.800000000000000\t-1.30000000000000;\n",
    "0.900000000000000\t1.20000000000000;\n",
    "5\t6.40000000000000;\n",
    "3.90000000000000\t4;\n",
    "7.10000000000000\t4.20000000000000;\n",
    "-1.40000000000000\t-4.30000000000000;\n",
    "4.50000000000000\t0;\n",
    "6.30000000000000\t1.60000000000000;\n",
    "4.20000000000000\t1.90000000000000;\n",
    "1.40000000000000\t-3.20000000000000;\n",
    "2.40000000000000\t-4;\n",
    "2.50000000000000\t-6.10000000000000;\n",
    "8.40000000000000\t3.70000000000000;\n",
    "4.10000000000000\t-2.20000000000000;\n",
    "-3\t-2.90000000000000;\n",
    "0.500000000000000\t8.70000000000000;\n",
    "2.90000000000000\t2.10000000000000;\n",
    "-0.100000000000000\t5.20000000000000;\n",
    "-4\t2.20000000000000;\n",
    "-1.30000000000000\t3.70000000000000;\n",
    "-3.40000000000000\t6.20000000000000;\n",
    "-4.10000000000000\t3.40000000000000;\n",
    "-5.10000000000000\t1.60000000000000;\n",
    "1.90000000000000\t5.10000000000000;\n",
    "-2\t-8.40000000000000;\n",
    "-8.90000000000000\t0.200000000000000;\n",
    "-4.20000000000000\t-7.70000000000000;\n",
    "-8.50000000000000\t-3.20000000000000;\n",
    "-6.70000000000000\t-4;\n",
    "-0.500000000000000\t-9.20000000000000;\n",
    "-5.30000000000000\t-6.70000000000000;\n",
    "-8.70000000000000\t-6.40000000000000;\n",
    "-7.10000000000000\t-9.70000000000000;\n",
    "-8\t-6.30000000000000]"
   ]
  },
  {
   "cell_type": "code",
   "execution_count": 214,
   "metadata": {},
   "outputs": [],
   "source": [
    "train_x = transpose(train_x);"
   ]
  },
  {
   "cell_type": "code",
   "execution_count": 215,
   "metadata": {},
   "outputs": [
    {
     "name": "stdout",
     "output_type": "stream",
     "text": [
      "40"
     ]
    }
   ],
   "source": [
    "train_y = [1;\n",
    "1;\n",
    "1;\n",
    "1;\n",
    "1;\n",
    "1;\n",
    "1;\n",
    "1;\n",
    "1;\n",
    "1;\n",
    "2;\n",
    "2;\n",
    "2;\n",
    "2;\n",
    "2;\n",
    "2;\n",
    "2;\n",
    "2;\n",
    "2;\n",
    "2;\n",
    "3;\n",
    "3;\n",
    "3;\n",
    "3;\n",
    "3;\n",
    "3;\n",
    "3;\n",
    "3;\n",
    "3;\n",
    "3;\n",
    "4;\n",
    "4;\n",
    "4;\n",
    "4;\n",
    "4;\n",
    "4;\n",
    "4;\n",
    "4;\n",
    "4;\n",
    "4]\n",
    "print(length(y));"
   ]
  },
  {
   "cell_type": "code",
   "execution_count": 216,
   "metadata": {},
   "outputs": [
    {
     "name": "stdout",
     "output_type": "stream",
     "text": [
      "Best0.975  2.132636 seconds (14.68 M allocations: 387.177 MiB, 5.19% gc time)\n"
     ]
    },
    {
     "data": {
      "text/plain": [
       "((MulticlassPerceptronClassifierParameters{Float32}(Float32[3.13803 7.88323 2.00168 -11.3896; 4.36046 0.965389 6.72019 -9.60819], Float32[31.0001, 22.3, 29.3001, -82.5993], 4, 2, false), false), nothing, NamedTuple())"
      ]
     },
     "execution_count": 216,
     "metadata": {},
     "output_type": "execute_result"
    }
   ],
   "source": [
    "@time fitresult, _ , _  = MLJBase.fit(model, 1, train_x, train_y)"
   ]
  },
  {
   "cell_type": "code",
   "execution_count": null,
   "metadata": {},
   "outputs": [],
   "source": []
  },
  {
   "cell_type": "code",
   "execution_count": null,
   "metadata": {},
   "outputs": [],
   "source": []
  }
 ],
 "metadata": {
  "kernelspec": {
   "display_name": "Julia 1.1.0",
   "language": "julia",
   "name": "julia-1.1"
  },
  "language_info": {
   "file_extension": ".jl",
   "mimetype": "application/julia",
   "name": "julia",
   "version": "1.1.0"
  }
 },
 "nbformat": 4,
 "nbformat_minor": 2
}
